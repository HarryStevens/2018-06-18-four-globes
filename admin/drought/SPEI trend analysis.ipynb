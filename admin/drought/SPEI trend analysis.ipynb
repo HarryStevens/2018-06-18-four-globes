{
 "cells": [
  {
   "cell_type": "code",
   "execution_count": 31,
   "metadata": {},
   "outputs": [
    {
     "name": "stdout",
     "output_type": "stream",
     "text": [
      "numpy version  :  1.14.5\n",
      "pandas version  :  0.23.1\n"
     ]
    }
   ],
   "source": [
    "import numpy as np\n",
    "import pandas as pd\n",
    "import xray\n",
    "from netCDF4 import num2date\n",
    "import matplotlib.pyplot as plt\n",
    "\n",
    "print(\"numpy version  : \", np.__version__)\n",
    "print(\"pandas version  : \", pd.__version__)"
   ]
  },
  {
   "cell_type": "code",
   "execution_count": 22,
   "metadata": {},
   "outputs": [],
   "source": [
    "dpm = {'noleap': [0, 31, 28, 31, 30, 31, 30, 31, 31, 30, 31, 30, 31],\n",
    "       '365_day': [0, 31, 28, 31, 30, 31, 30, 31, 31, 30, 31, 30, 31],\n",
    "       'standard': [0, 31, 28, 31, 30, 31, 30, 31, 31, 30, 31, 30, 31],\n",
    "       'gregorian': [0, 31, 28, 31, 30, 31, 30, 31, 31, 30, 31, 30, 31],\n",
    "       'proleptic_gregorian': [0, 31, 28, 31, 30, 31, 30, 31, 31, 30, 31, 30, 31],\n",
    "       'all_leap': [0, 31, 29, 31, 30, 31, 30, 31, 31, 30, 31, 30, 31],\n",
    "       '366_day': [0, 31, 29, 31, 30, 31, 30, 31, 31, 30, 31, 30, 31],\n",
    "       '360_day': [0, 30, 30, 30, 30, 30, 30, 30, 30, 30, 30, 30, 30]}"
   ]
  },
  {
   "cell_type": "code",
   "execution_count": 23,
   "metadata": {},
   "outputs": [],
   "source": [
    "def leap_year(year, calendar='standard'):\n",
    "    \"\"\"Determine if year is a leap year\"\"\"\n",
    "    leap = False\n",
    "    if ((calendar in ['standard', 'gregorian',\n",
    "        'proleptic_gregorian', 'julian']) and\n",
    "        (year % 4 == 0)):\n",
    "        leap = True\n",
    "        if ((calendar == 'proleptic_gregorian') and\n",
    "            (year % 100 == 0) and\n",
    "            (year % 400 != 0)):\n",
    "            leap = False\n",
    "        elif ((calendar in ['standard', 'gregorian']) and\n",
    "                 (year % 100 == 0) and (year % 400 != 0) and\n",
    "                 (year < 1583)):\n",
    "            leap = False\n",
    "    return leap\n",
    "\n",
    "def get_dpm(time, calendar='standard'):\n",
    "    \"\"\"\n",
    "    return a array of days per month corresponding to the months provided in `months`\n",
    "    \"\"\"\n",
    "    month_length = np.zeros(len(time), dtype=np.int)\n",
    "\n",
    "    cal_days = dpm[calendar]\n",
    "\n",
    "    for i, (month, year) in enumerate(zip(time.month, time.year)):\n",
    "        month_length[i] = cal_days[month]\n",
    "        if leap_year(year, calendar=calendar):\n",
    "            month_length[i] += 1\n",
    "    return month_length"
   ]
  },
  {
   "cell_type": "code",
   "execution_count": 37,
   "metadata": {},
   "outputs": [
    {
     "name": "stdout",
     "output_type": "stream",
     "text": [
      "<xarray.Dataset>\n",
      "Dimensions:  (lat: 360, lon: 720, time: 1380)\n",
      "Coordinates:\n",
      "  * lon      (lon) float64 -179.8 -179.2 -178.8 -178.2 -177.8 -177.2 -176.8 ...\n",
      "  * lat      (lat) float64 -89.75 -89.25 -88.75 -88.25 -87.75 -87.25 -86.75 ...\n",
      "  * time     (time) datetime64[ns] 1901-01-16 1901-02-15 1901-03-16 ...\n",
      "Data variables:\n",
      "    spei     (time, lat, lon) float32 ...\n",
      "Attributes:\n",
      "    Title:        Global 12-months SPEI, z-values, 0.5 degree\n",
      "    Version:      2.5\n",
      "    Id:           ./outputNcdf/spei12.nc\n",
      "    Summary:      Global dataset of the Standardized\\n\\t  Precipitation-Evapo...\n",
      "    Keywords:     drought, climatology, SPEI, Standardized\\n\\t  Precipitation...\n",
      "    Institution:  Consejo Superior de Investigaciones\\n\\t          Científica...\n",
      "    Url:          http://sac.csic.es/spei\n",
      "    Creators:     Santiago Beguería <santiago.begueria@csic.es>\\n\\t          ...\n",
      "    Software:     Created in R using the SPEI package\\n\\t          (https://c...\n",
      "    Call:         spei.nc(sca=i, inPre=./inputData/cru_ts3.24.01.1901.2015.pr...\n",
      "    Date:         Tue Jun 20 12:04:21 2017\n",
      "    Reference:    Beguería S., Vicente-Serrano S., Reig F., Latorre B. (2014)...\n",
      "    Reference2:   Vicente-Serrano S.M., Beguería S., López-Moreno J.I. (2010)...\n",
      "    Reference3:   Beguería S., Vicente-Serrano S., Angulo-Martínez M. (2010) ...\n"
     ]
    }
   ],
   "source": [
    "ds = xray.open_dataset(\"spei12.nc\", decode_coords=False)\n",
    "print(ds)"
   ]
  },
  {
   "cell_type": "code",
   "execution_count": 38,
   "metadata": {},
   "outputs": [],
   "source": [
    "# Make a DataArray with the number of days in each month, size = len(time)\n",
    "month_length = xray.DataArray(get_dpm(ds.time.to_index(), calendar='noleap'),\n",
    "                              coords=[ds.time], name='month_length')\n",
    "# Calculate the weights by grouping by 'time.season'\n",
    "weights = month_length.groupby('time.season') / month_length.groupby('time.season').sum()\n",
    "\n",
    "# Test that the sum of the weights for each season is 1.0\n",
    "np.testing.assert_allclose(weights.groupby('time.season').sum().values, np.ones(4))\n",
    "\n",
    "# Calculate the weighted average\n",
    "ds_weighted = (ds * weights).groupby('time.season').sum(dim='time')"
   ]
  },
  {
   "cell_type": "code",
   "execution_count": 41,
   "metadata": {},
   "outputs": [
    {
     "data": {
      "text/plain": [
       "<xarray.Dataset>\n",
       "Dimensions:  (lat: 360, lon: 720, season: 4)\n",
       "Coordinates:\n",
       "  * lon      (lon) float64 -179.8 -179.2 -178.8 -178.2 -177.8 -177.2 -176.8 ...\n",
       "  * lat      (lat) float64 -89.75 -89.25 -88.75 -88.25 -87.75 -87.25 -86.75 ...\n",
       "  * season   (season) object 'DJF' 'JJA' 'MAM' 'SON'\n",
       "Data variables:\n",
       "    spei     (season, lat, lon) float64 0.0 0.0 0.0 0.0 0.0 0.0 0.0 0.0 0.0 ..."
      ]
     },
     "execution_count": 41,
     "metadata": {},
     "output_type": "execute_result"
    }
   ],
   "source": []
  }
 ],
 "metadata": {
  "kernelspec": {
   "display_name": "Python 3",
   "language": "python",
   "name": "python3"
  },
  "language_info": {
   "codemirror_mode": {
    "name": "ipython",
    "version": 3
   },
   "file_extension": ".py",
   "mimetype": "text/x-python",
   "name": "python",
   "nbconvert_exporter": "python",
   "pygments_lexer": "ipython3",
   "version": "3.6.5"
  }
 },
 "nbformat": 4,
 "nbformat_minor": 2
}
